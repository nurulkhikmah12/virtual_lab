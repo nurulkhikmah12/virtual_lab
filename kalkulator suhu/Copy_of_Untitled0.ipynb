{
  "nbformat": 4,
  "nbformat_minor": 0,
  "metadata": {
    "colab": {
      "provenance": []
    },
    "kernelspec": {
      "name": "python3",
      "display_name": "Python 3"
    },
    "language_info": {
      "name": "python"
    }
  },
  "cells": [
    {
      "cell_type": "code",
      "execution_count": null,
      "metadata": {
        "id": "wp15fZPVquRR"
      },
      "outputs": [],
      "source": [
        "import streamlit as st\n",
        "\n",
        "st.title(\"Kalkulator BMI (Indeks Massa Tubuh)\")\n",
        "\n",
        "nama = st.text_input(\"Masukkan nama Anda\")\n",
        "tinggi = st.number_input(\"Masukkan tinggi badan (cm)\", min_value=100, max_value=250)\n",
        "berat = st.number_input(\"Masukkan berat badan (kg)\", min_value=30, max_value=200)\n",
        "\n",
        "if st.button(\"Hitung BMI\"):\n",
        "    if tinggi > 0 and berat > 0:\n",
        "        bmi = berat / ((tinggi / 100) ** 2)\n",
        "        st.write(f\"Halo, **{nama}** 👋\")\n",
        "        st.write(f\"Nilai BMI Anda adalah **{bmi:.2f}**\")\n",
        "\n",
        "        if bmi < 18.5:\n",
        "            st.warning(\"Berat badan Anda kurang.\")\n",
        "        elif 18.5 <= bmi < 25:\n",
        "            st.success(\"Berat badan Anda normal.\")\n",
        "        elif 25 <= bmi < 30:\n",
        "            st.info(\"Berat badan Anda berlebih.\")\n",
        "        else:\n",
        "            st.error(\"Anda termasuk obesitas.\")\n",
        "    else:\n",
        "        st.error(\"Tinggi dan berat badan harus lebih dari 0.\")"
      ]
    }
  ]
}